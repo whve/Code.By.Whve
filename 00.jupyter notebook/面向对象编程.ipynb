{
 "cells": [
  {
   "cell_type": "code",
   "execution_count": 1,
   "metadata": {},
   "outputs": [
    {
     "name": "stdout",
     "output_type": "stream",
     "text": [
      "第一个类\n"
     ]
    }
   ],
   "source": [
    "class FirstClass:\n",
    "    print(\"第一个类\")"
   ]
  },
  {
   "cell_type": "code",
   "execution_count": 2,
   "metadata": {},
   "outputs": [
    {
     "name": "stdout",
     "output_type": "stream",
     "text": [
      "第一个类\n",
      "这是类描述说明\n",
      "<class 'type'>\n",
      "<class '__main__.FirstClass'>\n"
     ]
    }
   ],
   "source": [
    "class FirstClass:\n",
    "    \"这是类描述说明\"\n",
    "    print(\"第一个类\")\n",
    "\n",
    "print(FirstClass.__doc__)\n",
    "print(type(FirstClass))\n",
    "a = FirstClass()\n",
    "print(type(a))"
   ]
  },
  {
   "cell_type": "code",
   "execution_count": 3,
   "metadata": {},
   "outputs": [
    {
     "name": "stdout",
     "output_type": "stream",
     "text": [
      "10 8\n",
      "window asile\n"
     ]
    }
   ],
   "source": [
    "class FirstClass:\n",
    "    def __init__(self, seq, pos):\n",
    "        self.seq = seq\n",
    "        self.pos = pos\n",
    "\n",
    "d1 = FirstClass(10, \"window\")\n",
    "d2 = FirstClass(8, \"asile\")\n",
    "print(d1.seq, d2.seq)\n",
    "print(d1.pos, d2.pos)"
   ]
  },
  {
   "cell_type": "code",
   "execution_count": 4,
   "metadata": {},
   "outputs": [
    {
     "name": "stdout",
     "output_type": "stream",
     "text": [
      "窗口 过道\n"
     ]
    }
   ],
   "source": [
    "class FirstClass:\n",
    "    def __init__(self, seq, pos):\n",
    "        self.seq = seq\n",
    "        self.pos = pos\n",
    "\n",
    "    def getPos(self):\n",
    "        pos = \"\"\n",
    "        if self.pos == \"window\":\n",
    "            pos = \"窗口\"\n",
    "        elif self.pos == \"asile\":\n",
    "            pos = \"过道\"\n",
    "        else:\n",
    "            pos = \"其他\"\n",
    "        return pos\n",
    "\n",
    "d1 = FirstClass(10, \"window\")\n",
    "d2 = FirstClass(8, \"asile\")\n",
    "print(d1.getPos(), d2.getPos())"
   ]
  },
  {
   "cell_type": "code",
   "execution_count": 5,
   "metadata": {},
   "outputs": [
    {
     "name": "stdout",
     "output_type": "stream",
     "text": [
      "已使用2个座位\n"
     ]
    }
   ],
   "source": [
    "class FirstClass:\n",
    "    count = 0\n",
    "    def __init__(self, seq, pos):\n",
    "        self.seq = seq\n",
    "        self.pos = pos\n",
    "        FirstClass.count += 1\n",
    "\n",
    "    @classmethod\n",
    "    def getCount(cls):\n",
    "        return \"已使用\" + str(FirstClass.count) + \"个座位\"\n",
    "    \n",
    "d1 = FirstClass(10, \"window\")\n",
    "d2 = FirstClass(8, \"asile\")\n",
    "print(FirstClass.getCount())"
   ]
  },
  {
   "cell_type": "code",
   "execution_count": 6,
   "metadata": {},
   "outputs": [
    {
     "name": "stdout",
     "output_type": "stream",
     "text": [
      "已使用二个座位\n"
     ]
    }
   ],
   "source": [
    "class FirstClass:\n",
    "    count = 0\n",
    "    def __init__(self, seq, pos):\n",
    "        self.seq = seq\n",
    "        self.pos = pos\n",
    "        FirstClass.count += 1\n",
    "\n",
    "    def getCNChr(n):\n",
    "        tpl = \"〇一二三四五六七八九\"\n",
    "        s = \"\"\n",
    "        try:\n",
    "            for c in str(n):\n",
    "                s += tpl[eval(c)]\n",
    "        except:\n",
    "            pass\n",
    "        return s\n",
    " \n",
    "    @staticmethod\n",
    "    def getCNCount():\n",
    "        return \"已使用\" + FirstClass.getCNChr(FirstClass.count) + \"个座位\"\n",
    "    \n",
    "d1 = FirstClass(10, \"window\")\n",
    "d2 = FirstClass(8, \"asile\")\n",
    "print(FirstClass.getCNCount())"
   ]
  },
  {
   "cell_type": "code",
   "execution_count": 7,
   "metadata": {},
   "outputs": [
    {
     "name": "stdout",
     "output_type": "stream",
     "text": [
      "座位号是一〇 座位号是八\n"
     ]
    },
    {
     "ename": "AttributeError",
     "evalue": "'FirstClass' object has no attribute '__seq'",
     "output_type": "error",
     "traceback": [
      "\u001b[1;31m---------------------------------------------------------------------------\u001b[0m",
      "\u001b[1;31mAttributeError\u001b[0m                            Traceback (most recent call last)",
      "\u001b[1;32m<ipython-input-7-c679350c04c3>\u001b[0m in \u001b[0;36m<module>\u001b[1;34m\u001b[0m\n\u001b[0;32m     20\u001b[0m \u001b[0md2\u001b[0m \u001b[1;33m=\u001b[0m \u001b[0mFirstClass\u001b[0m\u001b[1;33m(\u001b[0m\u001b[1;36m8\u001b[0m\u001b[1;33m,\u001b[0m \u001b[1;34m\"asile\"\u001b[0m\u001b[1;33m)\u001b[0m\u001b[1;33m\u001b[0m\u001b[1;33m\u001b[0m\u001b[0m\n\u001b[0;32m     21\u001b[0m \u001b[0mprint\u001b[0m\u001b[1;33m(\u001b[0m\u001b[0md1\u001b[0m\u001b[1;33m.\u001b[0m\u001b[0mgetSeq\u001b[0m\u001b[1;33m(\u001b[0m\u001b[1;33m)\u001b[0m\u001b[1;33m,\u001b[0m \u001b[0md2\u001b[0m\u001b[1;33m.\u001b[0m\u001b[0mgetSeq\u001b[0m\u001b[1;33m(\u001b[0m\u001b[1;33m)\u001b[0m\u001b[1;33m)\u001b[0m\u001b[1;33m\u001b[0m\u001b[1;33m\u001b[0m\u001b[0m\n\u001b[1;32m---> 22\u001b[1;33m \u001b[0mprint\u001b[0m\u001b[1;33m(\u001b[0m\u001b[0md1\u001b[0m\u001b[1;33m.\u001b[0m\u001b[0m__seq\u001b[0m\u001b[1;33m)\u001b[0m\u001b[1;33m\u001b[0m\u001b[1;33m\u001b[0m\u001b[0m\n\u001b[0m",
      "\u001b[1;31mAttributeError\u001b[0m: 'FirstClass' object has no attribute '__seq'"
     ]
    }
   ],
   "source": [
    "class FirstClass:\n",
    "    def __init__(self, seq, pos):\n",
    "        self.__seq = seq\n",
    "        self.__pos = pos\n",
    "\n",
    "    def getSeq(self):\n",
    "        return \"座位号是\" + str(self.__getCNChr(self.__seq))\n",
    "\n",
    "    def __getCNChr(self, n):\n",
    "        tpl = \"〇一二三四五六七八九\"\n",
    "        s = \"\"\n",
    "        try:\n",
    "            for c in str(n):\n",
    "                s += tpl[eval(c)]\n",
    "        except:\n",
    "            pass\n",
    "        return s\n",
    " \n",
    "d1 = FirstClass(10, \"window\")\n",
    "d2 = FirstClass(8, \"asile\")\n",
    "print(d1.getSeq(), d2.getSeq())\n",
    "print(d1.__seq)"
   ]
  },
  {
   "cell_type": "code",
   "execution_count": 8,
   "metadata": {},
   "outputs": [
    {
     "name": "stdout",
     "output_type": "stream",
     "text": [
      "座位号是 二等 一〇 座位号是 二等 八\n"
     ]
    }
   ],
   "source": [
    "class FirstClass:\n",
    "    def __init__(self, seq, pos):\n",
    "        self.seq = seq\n",
    "        self.pos = pos\n",
    "\n",
    "    def getSeq(self):\n",
    "        return \"座位号是\" + str(self.getCNChr(self.seq))\n",
    "\n",
    "    def getCNChr(self, n):\n",
    "        tpl = \"〇一二三四五六七八九\"\n",
    "        s = \"\"\n",
    "        try:\n",
    "            for c in str(n):\n",
    "                s += tpl[eval(c)]\n",
    "        except:\n",
    "            pass\n",
    "        return s\n",
    "\n",
    "class SecondClass(FirstClass):\n",
    "    def getSeq(self):\n",
    "        return \"座位号是 二等 \" + str(self.getCNChr(self.seq))\n",
    "    \n",
    "d1 = SecondClass(10, \"window\")\n",
    "d2 = SecondClass(8, \"asile\")\n",
    "print(d1.getSeq(), d2.getSeq())"
   ]
  },
  {
   "cell_type": "code",
   "execution_count": 9,
   "metadata": {},
   "outputs": [
    {
     "name": "stdout",
     "output_type": "stream",
     "text": [
      "FirstClass\n"
     ]
    }
   ],
   "source": [
    "class FirstClass:\n",
    "    print(\"FirstClass\")\n",
    "    def __init__(self):\n",
    "        print(\"__init__\")\n",
    "    \n",
    "    def objfoo(self):\n",
    "        print(\"实例方法objfoo\")\n",
    "\n",
    "    def foo():\n",
    "        print(\"自由方法foo\")\n",
    "\n",
    "    @staticmethod\n",
    "    def staticfoo():\n",
    "        print(\"静态方法staticfoo\")"
   ]
  },
  {
   "cell_type": "code",
   "execution_count": 10,
   "metadata": {},
   "outputs": [
    {
     "name": "stdout",
     "output_type": "stream",
     "text": [
      "这是一个最小类\n"
     ]
    }
   ],
   "source": [
    "class LeastClass:\n",
    "    \"这是一个最小类\"\n",
    "    pass\n",
    "\n",
    "print(LeastClass.__doc__)"
   ]
  },
  {
   "cell_type": "code",
   "execution_count": 12,
   "metadata": {},
   "outputs": [
    {
     "name": "stdout",
     "output_type": "stream",
     "text": [
      "EchoClassAttribute\n",
      "EchoClassMethod\n",
      "EchoInstanceAttribute\n",
      "EchoInstanceMethod\n"
     ]
    }
   ],
   "source": [
    "class Echo:\n",
    "    EchoClassAttribute = \"EchoClassAttribute\"\n",
    "    def __init__(self):\n",
    "        self.EchoInstanceAttribute = \"EchoInstanceAttribute\"\n",
    "    \n",
    "    def EchoInstanceMethod(self):\n",
    "        return \"EchoInstanceMethod\"\n",
    "    \n",
    "    @classmethod\n",
    "    def EchoClassMethod(cls):\n",
    "        return \"EchoClassMethod\"\n",
    "\n",
    "\n",
    "e = Echo()\n",
    "print(Echo.EchoClassAttribute)\n",
    "print(Echo.EchoClassMethod())\n",
    "print(e.EchoInstanceAttribute)\n",
    "print(e.EchoInstanceMethod())"
   ]
  },
  {
   "cell_type": "code",
   "execution_count": 13,
   "metadata": {},
   "outputs": [
    {
     "name": "stdout",
     "output_type": "stream",
     "text": [
      "123CNY\n",
      "15.58EUR\n"
     ]
    }
   ],
   "source": [
    "class ConvertClass:\n",
    "    def __init__(self, c1, c2, ratio):\n",
    "        self.symbol_a = c1\n",
    "        self.symbol_b = c2\n",
    "        self.ratio = ratio\n",
    "    \n",
    "    def toTheOther(self, v):\n",
    "        rst = 0\n",
    "        if v[-3:] == self.symbol_a[-3:]:\n",
    "            rst = eval(v[:-3]) * self.ratio\n",
    "            return \"{:.2f}\".format(rst) + self.symbol_b\n",
    "        elif v[-3:] == self.symbol_b[-3:]:\n",
    "            rst = eval(v[:-3]) / self.ratio\n",
    "            return \"{:.2f}\".format(rst) + self.symbol_a\n",
    "        else:\n",
    "            return \"格式错误\"\n",
    "\n",
    "d = ConvertClass(\"EUR\", \"CNY\", 7.8942)\n",
    "print(d.toTheOther(input()))"
   ]
  },
  {
   "cell_type": "code",
   "execution_count": 37,
   "metadata": {},
   "outputs": [
    {
     "name": "stdout",
     "output_type": "stream",
     "text": [
      "1 2 3 4\n",
      "5 6 7 8\n",
      "\n",
      "0.03\n"
     ]
    }
   ],
   "source": [
    "class Creature:\n",
    "    count = 0\n",
    "    def __init__(self, weight, long, width, height):\n",
    "        self.wt = weight\n",
    "        self.lo = long\n",
    "        self.wi = width\n",
    "        self.he = height\n",
    "        Creature.count += 1\n",
    "    \n",
    "    def getDensity(self):\n",
    "        return self.wt/(self.lo*self.wi*self.he)\n",
    "\n",
    "avg_density = 0\n",
    "try:\n",
    "    s = input()\n",
    "    while s != \"\":\n",
    "        wt, lo, wi, he = tuple(s.split())\n",
    "        d = Creature(eval(wt), eval(lo), eval(wi), eval(he))\n",
    "        avg_density += d.getDensity()\n",
    "        s = input()\n",
    "except:\n",
    "    pass\n",
    "avg_density =  avg_density / Creature.count\n",
    "print(\"{:.2f}\".format(avg_density))"
   ]
  },
  {
   "cell_type": "code",
   "execution_count": 36,
   "metadata": {},
   "outputs": [
    {
     "name": "stdout",
     "output_type": "stream",
     "text": [
      "1 2 3 4\n",
      "5 6 7 8\n",
      "\n",
      "0.08\n"
     ]
    }
   ],
   "source": [
    "class Creature:\n",
    "    count = 0\n",
    "    def __init__(self, weight, long, width, height):\n",
    "        self.wt = weight\n",
    "        self.lo = long\n",
    "        self.wi = width\n",
    "        self.he = height\n",
    "        Creature.count += 1\n",
    "    \n",
    "    def getDensity(self):\n",
    "        vol = (3.14159*pow(max(self.lo, self.wi)/2,2)*self.he)/3\n",
    "        return self.wt/vol\n",
    "\n",
    "avg_density = 0\n",
    "try:\n",
    "    s = input()\n",
    "    while s != \"\":\n",
    "        wt, lo, wi, he = tuple(s.split())\n",
    "        d = Creature(eval(wt), eval(lo), eval(wi), eval(he))\n",
    "        avg_density += d.getDensity()\n",
    "        s = input()\n",
    "except:\n",
    "    pass\n",
    "avg_density =  avg_density / Creature.count\n",
    "print(\"{:.2f}\".format(avg_density))"
   ]
  },
  {
   "cell_type": "code",
   "execution_count": 19,
   "metadata": {},
   "outputs": [
    {
     "name": "stdout",
     "output_type": "stream",
     "text": [
      "True True False True False False\n"
     ]
    }
   ],
   "source": [
    "class FirstClass:\n",
    "    def __init__(self, seq, pos):\n",
    "        self.seq = seq\n",
    "        self.pos = pos\n",
    "\n",
    "    def __lt__(self, other):\n",
    "        return self.seq < other.seq\n",
    "\n",
    "    def __le__(self, other):\n",
    "        return self.seq <= other.seq\n",
    "    \n",
    "    def __eq__(self, other):\n",
    "        return self.seq == other.seq\n",
    "    \n",
    "    def __ne__(self, other):\n",
    "        return self.seq != other.seq\n",
    "    \n",
    "    def __gt__(self, other):\n",
    "        return self.seq > other.seq\n",
    "    \n",
    "    def __ge__(self, other):\n",
    "        return self.seq >= other.seq\n",
    "       \n",
    "d1 = FirstClass(10, \"window\")\n",
    "d2 = FirstClass(8, \"asile\")\n",
    "print(d1>d2, d1>=d2, d1==d2, d1!=d2, d1<d2, d1<=d2)"
   ]
  },
  {
   "cell_type": "code",
   "execution_count": 21,
   "metadata": {},
   "outputs": [
    {
     "name": "stdout",
     "output_type": "stream",
     "text": [
      "18 2 80 非法操作 1 2 (1, 2)\n"
     ]
    }
   ],
   "source": [
    "class FirstClass:\n",
    "    def __init__(self, seq, pos):\n",
    "        self.seq = seq\n",
    "        self.pos = pos\n",
    "        \n",
    "    def __add__(self, other):\n",
    "        return self.seq + other.seq\n",
    "\n",
    "    def __sub__(self, other):\n",
    "        return abs(self.seq - other.seq)\n",
    "\n",
    "    def __mul__(self, other):\n",
    "        return self.seq * other.seq\n",
    "\n",
    "    def __truediv__(self, other):\n",
    "        return \"非法操作\"\n",
    "\n",
    "    def __floordiv__(self, other):\n",
    "        return self.seq // other.seq\n",
    "\n",
    "    def __mod__(self, other):\n",
    "        return self.seq % other.seq\n",
    "\n",
    "    def __divmod__(self, other):\n",
    "        return divmod(self.seq, other.seq)\n",
    "\n",
    "\n",
    "d1 = FirstClass(10, \"window\")\n",
    "d2 = FirstClass(8, \"asile\")\n",
    "print(d1+d2, d1-d2, d1*d2, d1/d2, d1//d2, d1%d2, divmod(d1,d2))\n"
   ]
  },
  {
   "cell_type": "code",
   "execution_count": 22,
   "metadata": {},
   "outputs": [
    {
     "name": "stdout",
     "output_type": "stream",
     "text": [
      "<__main__.FirstClass object at 0x0000022FC0FCBF60> 12 8 2 10\n"
     ]
    }
   ],
   "source": [
    "class FirstClass:\n",
    "    N = 20\n",
    "    def __init__(self, seq, pos):\n",
    "        self.seq = seq\n",
    "        self.pos = pos\n",
    "\n",
    "    def __neg__(self):\n",
    "        return FirstClass.N - self.seq\n",
    "\n",
    "    def __pos__(self):\n",
    "        return self.seq\n",
    "    \n",
    "    def __abs__(self):\n",
    "        return abs(self.seq - FirstClass.N//2)\n",
    "        \n",
    "    def __invert__(self):\n",
    "        return self.seq + self.__abs__()\n",
    "\n",
    "\n",
    "d1 = FirstClass(8, \"window\")\n",
    "print(d1, -d1, +d1, abs(d1), ~d1)"
   ]
  },
  {
   "cell_type": "code",
   "execution_count": 23,
   "metadata": {},
   "outputs": [
    {
     "name": "stdout",
     "output_type": "stream",
     "text": [
      "100 asile window\n",
      "8 2 10\n"
     ]
    }
   ],
   "source": [
    "class FirstClass:\n",
    "    def __init__(self, seq, pos):\n",
    "        self.seq = seq\n",
    "        self.pos = pos\n",
    "\n",
    "    def __pow__(self, other):\n",
    "        return self.seq ** other\n",
    "\n",
    "    def __shift(self):\n",
    "        return \"asile\" if self.pos == \"window\" else \"window\"\n",
    "\n",
    "    def __lshift__(self, other):\n",
    "        for _ in range(other):\n",
    "            self.pos = self.__shift()\n",
    "        return self.pos\n",
    "    \n",
    "    def __rshift__(self, other):\n",
    "        for _ in range(other):\n",
    "            self.pos = self.__shift()\n",
    "        return self.pos\n",
    "        \n",
    "    def __and__(self, other):\n",
    "        return self.seq & other.seq\n",
    "        \n",
    "    def __xor__(self, other):\n",
    "        return self.seq ^ other.seq\n",
    "    \n",
    "    def __or__(self, other):\n",
    "        return self.seq | other.seq\n",
    "\n",
    "d1 = FirstClass(10, \"window\")\n",
    "d2 = FirstClass(8, \"asile\")\n",
    "print(pow(d1, 2), d1 << 3, d1 >> 5)\n",
    "print(d1 & d2, d1 ^ d2, d1 | d2)"
   ]
  },
  {
   "cell_type": "code",
   "execution_count": 24,
   "metadata": {},
   "outputs": [
    {
     "name": "stdout",
     "output_type": "stream",
     "text": [
      "True False\n",
      "10 window\n",
      "8 asile\n"
     ]
    }
   ],
   "source": [
    "class FirstClass:\n",
    "    def __init__(self, seq, pos):\n",
    "        self.seq = seq\n",
    "        self.pos = pos\n",
    "\n",
    "    def __contains__(self, item):\n",
    "        return True if self.seq == item else False\n",
    "    \n",
    "    def __getitem__(self, key):\n",
    "        if key == 0:\n",
    "            return self.seq\n",
    "        elif key == 1:\n",
    "            return self.pos\n",
    "        else:\n",
    "            return \"错误键值\"\n",
    "        \n",
    "    def __setitem__(self, key, v):\n",
    "        if key == 0:\n",
    "            self.seq = v\n",
    "        elif key == 1:\n",
    "            self.pos = v\n",
    "        else:\n",
    "            pass\n",
    "\n",
    "d1 = FirstClass(10, \"window\")\n",
    "print(10 in d1, 5 in d1)\n",
    "print(d1[0], d1[1])\n",
    "d1[0] = 8\n",
    "d1[1] = \"asile\"\n",
    "print(d1[0], d1[1])"
   ]
  },
  {
   "cell_type": "code",
   "execution_count": 25,
   "metadata": {},
   "outputs": [
    {
     "name": "stdout",
     "output_type": "stream",
     "text": [
      "座位号:10; 类型:window\n"
     ]
    }
   ],
   "source": [
    "class FirstClass:\n",
    "    def __init__(self, seq, pos):\n",
    "        self.seq = seq\n",
    "        self.pos = pos\n",
    "\n",
    "    def __str__(self):\n",
    "        return \"座位号:\" + str(self.seq) + \"; 类型:\" + self.pos\n",
    "    \n",
    "d1 = FirstClass(10, \"window\")\n",
    "print(str(d1))"
   ]
  },
  {
   "cell_type": "code",
   "execution_count": 26,
   "metadata": {},
   "outputs": [
    {
     "name": "stdout",
     "output_type": "stream",
     "text": [
      "456\n",
      "Hello 456!\n",
      "456 Hello!\n"
     ]
    }
   ],
   "source": [
    "class Echo():\n",
    "    def __init__(self, name):\n",
    "        self.name = name\n",
    "        print(\"Hello {}!\".format(name))\n",
    "    def __invert__(self):\n",
    "        print(\"{} Hello!\".format(self.name))\n",
    "        \n",
    "s = input()\n",
    "echoA = Echo(s)\n",
    "~echoA"
   ]
  },
  {
   "cell_type": "code",
   "execution_count": 33,
   "metadata": {},
   "outputs": [
    {
     "name": "stdout",
     "output_type": "stream",
     "text": [
      "Adam Eve\n",
      "Hello Adam!\n",
      "Hello Eve!\n",
      "Hello Adam!\n"
     ]
    }
   ],
   "source": [
    "class Echo():\n",
    "    def __init__(self, name):\n",
    "        self.name = name\n",
    "        print(\"Hello {}!\".format(name))\n",
    "    def __sub__(self, others):\n",
    "        for c in others.name:\n",
    "            self.name = self.name.replace(c, \"\")\n",
    "        if self.name == \"\":\n",
    "            print(\"Hello!\")\n",
    "        else:\n",
    "            print(\"Hello {}!\".format(self.name))\n",
    "    \n",
    "s = input()\n",
    "echoA = Echo(s.split()[0])\n",
    "echoB = Echo(s.split()[1])\n",
    "echoA - echoB"
   ]
  },
  {
   "cell_type": "code",
   "execution_count": 34,
   "metadata": {},
   "outputs": [
    {
     "name": "stdout",
     "output_type": "stream",
     "text": [
      "Adam Eve\n",
      "Hello Adam!\n",
      "Hello Eve!\n",
      "Hello Ada!\n"
     ]
    }
   ],
   "source": [
    "class Echo():\n",
    "    def __init__(self, name):\n",
    "        self.name = name\n",
    "        print(\"Hello {}!\".format(name))\n",
    "    def __and__(self, other):\n",
    "        name = \"\"\n",
    "        for i in range(min(len(self.name), len(other.name))):\n",
    "            name += min(self.name[i], other.name[i])\n",
    "        print(\"Hello {}!\".format(name))\n",
    "        \n",
    "s = input()\n",
    "echoA = Echo(s.split()[0])\n",
    "echoB = Echo(s.split()[1])\n",
    "echoA & echoB"
   ]
  },
  {
   "cell_type": "code",
   "execution_count": 35,
   "metadata": {},
   "outputs": [
    {
     "name": "stdout",
     "output_type": "stream",
     "text": [
      "Adam Eve\n",
      "Hello Adam, Eve!\n"
     ]
    }
   ],
   "source": [
    "class Echo():\n",
    "    def __init__(self, name):\n",
    "        if len(name) == 0:\n",
    "            print(\"Hello!\")\n",
    "        else:\n",
    "            print(\"Hello {}!\".format(\", \".join(name.split())))\n",
    "\n",
    "s = input()\n",
    "echoA = Echo(s)"
   ]
  },
  {
   "cell_type": "code",
   "execution_count": 38,
   "metadata": {},
   "outputs": [
    {
     "name": "stdout",
     "output_type": "stream",
     "text": [
      "Hello, 1!\n"
     ]
    }
   ],
   "source": [
    "numC=1\n",
    "\n",
    "print(\"Hello, {}!\".format(str(numC)))"
   ]
  },
  {
   "cell_type": "code",
   "execution_count": null,
   "metadata": {},
   "outputs": [],
   "source": []
  }
 ],
 "metadata": {
  "kernelspec": {
   "display_name": "Python 3",
   "language": "python",
   "name": "python3"
  },
  "language_info": {
   "codemirror_mode": {
    "name": "ipython",
    "version": 3
   },
   "file_extension": ".py",
   "mimetype": "text/x-python",
   "name": "python",
   "nbconvert_exporter": "python",
   "pygments_lexer": "ipython3",
   "version": "3.7.1"
  }
 },
 "nbformat": 4,
 "nbformat_minor": 2
}
