{
 "cells": [
  {
   "cell_type": "markdown",
   "metadata": {},
   "source": [
    "> 标记 是markdown 格式吗\n",
    "1. 是的"
   ]
  },
  {
   "cell_type": "code",
   "execution_count": 2,
   "metadata": {},
   "outputs": [
    {
     "data": {
      "text/plain": [
       "0.3"
      ]
     },
     "execution_count": 2,
     "metadata": {},
     "output_type": "execute_result"
    }
   ],
   "source": [
    "round(0.1+0.2,1)"
   ]
  },
  {
   "cell_type": "markdown",
   "metadata": {},
   "source": [
    "【Python基础语法】练习一\n",
    "\n",
    "字符串之基本操作小练习\n",
    "描述\n",
    "\n",
    "这是一个关于\"字符串之基本操作\"的小练习，覆盖字符串索引、切片和基本操作方法，包含两部分内容：跟随练习 和 小测验。‪‬‪‬‪‬‪‬‪‬‮‬‫‬‭‬‪‬‪‬‪‬‪‬‪‬‮‬‪‬‫‬‪‬‪‬‪‬‪‬‪‬‮‬‭‬‪‬‪‬‪‬‪‬‪‬‪‬‮‬‫‬‮‬\n",
    "\n",
    "在\"跟随练习\"环节，请使用IDLE编辑器的交互模式，逐一输入以下语句，观察并比较输出结果。‪‬‪‬‪‬‪‬‪‬‮‬‫‬‭‬‪‬‪‬‪‬‪‬‪‬‮‬‪‬‫‬‪‬‪‬‪‬‪‬‪‬‮‬‭‬‪‬‪‬‪‬‪‬‪‬‪‬‮‬‫‬‮‬\n",
    "\n",
    "在\"小测验\"环节，请在本题目对应的\"提交代码\"页面按要求输入代码，\"保存并提交评判\"后查看结果。‪‬‪‬‪‬‪‬‪‬‮‬‫‬‭‬‪‬‪‬‪‬‪‬‪‬‮‬‪‬‫‬‪‬‪‬‪‬‪‬‪‬‮‬‭‬‪‬‪‬‪‬‪‬‪‬‪‬‮‬‫‬‮‬\n",
    "跟随练习\n",
    "\n",
    " 请使用IDLE编辑器的交互模式（含有>>>提示符），按顺序逐一输入以下语句（共20个）：\n",
    "```\n",
    " >>>a = \"PYPY\"\n",
    ">>>b = '语言'\n",
    ">>>a + b\n",
    "'PYPY语言'\n",
    ">>>print(a, b)\n",
    "PYPY 语言\n",
    ">>>a += b\n",
    ">>>a\n",
    "'PYPY语言'\n",
    ">>>a[4:0]\n",
    "''\n",
    ">>>a[:-1:2]\n",
    "'PP语'\n",
    ">>>a[::-1]\n",
    "'言语YPYP'\n",
    ">>>a[::-2]\n",
    "'言YY'\n",
    ">>>a[::]\n",
    "'PYPY语言'\n",
    ">>>\"Py\" in a\n",
    "False\n",
    ">>>\"Py\" not in a\n",
    "True\n",
    ">>>b in a\n",
    "True\n",
    ">>>a*3\n",
    "'PYPY语言PYPY语言PYPY语言'\n",
    ">>>a*0\n",
    "''\n",
    ">>>a*-2\n",
    "''\n",
    ">>>c = \"\\'\\\"\\\\{\\}\\*\"\n",
    "'\\'\"\\\\{\\\\}\\\\*'\n",
    ">>>print(c)\n",
    "'\"\\{\\}\\*\n",
    ">>>print(c+\"\\t\\\\\")\n",
    "'\"\\{\\}\\*\t\\\n",
    "```"
   ]
  },
  {
   "cell_type": "code",
   "execution_count": 5,
   "metadata": {},
   "outputs": [
    {
     "name": "stdout",
     "output_type": "stream",
     "text": [
      "1\n",
      "3\n",
      "5\n",
      "7\n",
      "9\n"
     ]
    }
   ],
   "source": [
    "for i in range(1,10,2):\n",
    "    print(i)"
   ]
  },
  {
   "cell_type": "code",
   "execution_count": 8,
   "metadata": {},
   "outputs": [
    {
     "name": "stdout",
     "output_type": "stream",
     "text": [
      "*\n",
      "　　　　*　　　　\n",
      "　　　***　　　\n",
      "　　*****　　\n",
      "　*******　\n",
      "*********\n"
     ]
    }
   ],
   "source": [
    "c = input()\n",
    "for i in range(1,10,2):\n",
    "    print(\"{0:{1}^9}\".format(c*i, chr(12288)))"
   ]
  },
  {
   "cell_type": "code",
   "execution_count": 10,
   "metadata": {},
   "outputs": [
    {
     "name": "stdout",
     "output_type": "stream",
     "text": [
      "8\n",
      "　　　　8　　　　\n",
      "　　　888　　　\n",
      "　　88888　　\n",
      "　8888888　\n",
      "888888888\n"
     ]
    }
   ],
   "source": [
    "c = input()\n",
    "for i in range(1,10,2):\n",
    "    print(\"{0:{1}^9}\".format(c*i, chr(12288)))"
   ]
  },
  {
   "cell_type": "code",
   "execution_count": 13,
   "metadata": {},
   "outputs": [
    {
     "data": {
      "text/plain": [
       "'=======123456======='"
      ]
     },
     "execution_count": 13,
     "metadata": {},
     "output_type": "execute_result"
    }
   ],
   "source": [
    "\"{0:=^20}\".format('123456')"
   ]
  },
  {
   "cell_type": "code",
   "execution_count": 18,
   "metadata": {},
   "outputs": [
    {
     "name": "stdout",
     "output_type": "stream",
     "text": [
      "　　　　*　　　　\n"
     ]
    }
   ],
   "source": [
    "print(\"{0:{1}^9}\".format('*', chr(12288)))"
   ]
  },
  {
   "cell_type": "code",
   "execution_count": 19,
   "metadata": {},
   "outputs": [
    {
     "name": "stdout",
     "output_type": "stream",
     "text": [
      "3\n",
      "[STEP   1] A->C\n",
      "[STEP   2] A->B\n",
      "[STEP   3] C->B\n",
      "[STEP   4] A->C\n",
      "[STEP   5] B->A\n",
      "[STEP   6] B->C\n",
      "[STEP   7] A->C\n"
     ]
    }
   ],
   "source": [
    "steps = 0\n",
    "def hanoi(src, des, mid, n):\n",
    "    global steps\n",
    "    if n == 1:\n",
    "        steps += 1\n",
    "        print(\"[STEP{:>4}] {}->{}\".format(steps, src, des))\n",
    "    else:\n",
    "        hanoi(src, mid, des, n-1)\n",
    "        steps += 1\n",
    "        print(\"[STEP{:>4}] {}->{}\".format(steps, src, des))        \n",
    "        hanoi(mid, des, src, n-1)\n",
    "N = eval(input())\n",
    "hanoi(\"A\", \"C\", \"B\", N)"
   ]
  },
  {
   "cell_type": "code",
   "execution_count": 36,
   "metadata": {},
   "outputs": [
    {
     "name": "stdout",
     "output_type": "stream",
     "text": [
      "100\n",
      "3.14159265\n"
     ]
    }
   ],
   "source": [
    "\n",
    "k = eval(input())\n",
    "\n",
    "f = 0\n",
    "for i in range(k+1):\n",
    "    b = (1/(16**i)*(4/(8*i+1)-2/(8*i+4)-1/(8*i+5)-1/(8*i+6)))\n",
    "    f = b+f\n",
    "print('%.8f'% f)"
   ]
  },
  {
   "cell_type": "code",
   "execution_count": 34,
   "metadata": {},
   "outputs": [
    {
     "name": "stdout",
     "output_type": "stream",
     "text": [
      "0\n",
      "1\n",
      "2\n",
      "3\n",
      "4\n",
      "5\n",
      "6\n",
      "7\n"
     ]
    }
   ],
   "source": [
    "def histogram(s):\n",
    "    ''' 统计字符出现次数'''\n",
    "    d=dict()\n",
    "    for c in s:\n",
    "        if c not in d:\n",
    "            d[c]=1\n",
    "        else:\n",
    "            d[c]+=1\n",
    "    return d\n",
    "    \n",
    "fin=open(\"info.txt\",\"r\")\n",
    "'''打开1.txt,求其第一段的字符次数与频率'''\n",
    "b=fin.readline()\n",
    "\n",
    "b=b.strip()\n",
    "'''strip() 方法用于移除字符串头尾指定的字符（默认为空格）'''\n",
    "# print(b)\n",
    "print(histogram(b))\n",
    "fin.close()"
   ]
  },
  {
   "cell_type": "code",
   "execution_count": 41,
   "metadata": {},
   "outputs": [
    {
     "data": {
      "text/plain": [
       "['a',\n",
       " 'b',\n",
       " 'c',\n",
       " 'd',\n",
       " 'e',\n",
       " 'f',\n",
       " 'g',\n",
       " 'h',\n",
       " 'i',\n",
       " 'j',\n",
       " 'k',\n",
       " 'l',\n",
       " 'm',\n",
       " 'n',\n",
       " 'o',\n",
       " 'p',\n",
       " 'q',\n",
       " 'r',\n",
       " 's',\n",
       " 't',\n",
       " 'u',\n",
       " 'v',\n",
       " 'w',\n",
       " 'x',\n",
       " 'y',\n",
       " 'z']"
      ]
     },
     "execution_count": 41,
     "metadata": {},
     "output_type": "execute_result"
    }
   ],
   "source": [
    "def histogram(s):\n",
    "    ''' 统计字符出现次数'''\n",
    "    d=dict()\n",
    "    for c in s:\n",
    "        if c not in ['a','b','c','d','e','f','g','h','i','j','k','l','m','n','o','p','q','r','s','t','u','v','w','x','y','z']:\n",
    "            pass\n",
    "        elif c not in d:\n",
    "            d[c]=1\n",
    "        else:\n",
    "            d[c]+=1\n",
    "    return d\n",
    "    \n",
    "fin=open(\"info.txt\",\"r\")\n",
    "'''打开1.txt,求其第一段的字符次数与频率'''\n",
    "b=fin.readline()\n",
    "\n",
    "dict = histogram(b)\n",
    "\n",
    "for key,value in dict.items():\n",
    "    print('{key}:{value}'.format(key = key, value = value))\n",
    "fin.close()"
   ]
  },
  {
   "cell_type": "code",
   "execution_count": 42,
   "metadata": {},
   "outputs": [
    {
     "ename": "SyntaxError",
     "evalue": "invalid syntax (<ipython-input-42-f7794fc7ed7d>, line 21)",
     "output_type": "error",
     "traceback": [
      "\u001b[1;36m  File \u001b[1;32m\"<ipython-input-42-f7794fc7ed7d>\"\u001b[1;36m, line \u001b[1;32m21\u001b[0m\n\u001b[1;33m    print(\"{}:{}\".format(k, c))value))\u001b[0m\n\u001b[1;37m                                   ^\u001b[0m\n\u001b[1;31mSyntaxError\u001b[0m\u001b[1;31m:\u001b[0m invalid syntax\n"
     ]
    }
   ],
   "source": [
    "def histogram(s):\n",
    "    ''' 统计字符出现次数'''\n",
    "    d=dict()\n",
    "    for c in s:\n",
    "        if c not in ['a','b','c','d','e','f','g','h','i','j','k','l','m','n','o','p','q','r','s','t','u','v','w','x','y','z']:\n",
    "            pass\n",
    "        elif c not in d:\n",
    "            d[c]=1\n",
    "        else:\n",
    "            d[c]+=1\n",
    "    return d\n",
    "\n",
    "fin=open(\"info.txt\",\"r\")\n",
    "'''打开1.txt,求其第一段的字符次数与频率'''\n",
    "b=fin.readline()\n",
    "\n",
    "d = (histogram(b))\n",
    "ls = list(d.items())\n",
    "ls.sort()\n",
    "for k, c in ls:\n",
    "    print(\"{}:{}\".format(k, c))\n",
    "fin.close()\n"
   ]
  },
  {
   "cell_type": "code",
   "execution_count": 43,
   "metadata": {},
   "outputs": [
    {
     "data": {
      "text/plain": [
       "True"
      ]
     },
     "execution_count": 43,
     "metadata": {},
     "output_type": "execute_result"
    }
   ],
   "source": [
    "[11,1,2,3,9,11,100] < [11,1,3,\"abc\"]"
   ]
  },
  {
   "cell_type": "code",
   "execution_count": null,
   "metadata": {},
   "outputs": [],
   "source": []
  }
 ],
 "metadata": {
  "kernelspec": {
   "display_name": "Python 3",
   "language": "python",
   "name": "python3"
  },
  "language_info": {
   "codemirror_mode": {
    "name": "ipython",
    "version": 3
   },
   "file_extension": ".py",
   "mimetype": "text/x-python",
   "name": "python",
   "nbconvert_exporter": "python",
   "pygments_lexer": "ipython3",
   "version": "3.7.1"
  }
 },
 "nbformat": 4,
 "nbformat_minor": 2
}
