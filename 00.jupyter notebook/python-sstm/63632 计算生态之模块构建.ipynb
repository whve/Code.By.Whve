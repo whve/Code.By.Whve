{
 "cells": [
  {
   "cell_type": "code",
   "execution_count": 1,
   "metadata": {},
   "outputs": [
    {
     "name": "stdout",
     "output_type": "stream",
     "text": [
      "这是最小的空模块\n"
     ]
    }
   ],
   "source": [
    "#DemoModule.py\n",
    "if __name__ == \"__main__\":\n",
    "    print(\"这是最小的空模块\")"
   ]
  },
  {
   "cell_type": "code",
   "execution_count": 12,
   "metadata": {},
   "outputs": [],
   "source": [
    "import DemoModule"
   ]
  },
  {
   "cell_type": "code",
   "execution_count": 6,
   "metadata": {},
   "outputs": [
    {
     "name": "stdout",
     "output_type": "stream",
     "text": [
      "模块级别语句\n",
      "模块级别函数\n",
      "这是最小的空模块\n"
     ]
    }
   ],
   "source": [
    "\"这是一个演示模块\"\n",
    "\n",
    "print(\"模块级别语句\")\n",
    "def foo():\n",
    "    print(\"模块级别函数\")\n",
    "foo()\n",
    "\n",
    "if __name__ == \"__main__\":\n",
    "    print(\"这是最小的空模块\")"
   ]
  },
  {
   "cell_type": "code",
   "execution_count": 13,
   "metadata": {},
   "outputs": [
    {
     "name": "stdout",
     "output_type": "stream",
     "text": [
      "None\n"
     ]
    }
   ],
   "source": [
    "import DemoModule\n",
    "print(DemoModule.__doc__)"
   ]
  },
  {
   "cell_type": "code",
   "execution_count": 14,
   "metadata": {},
   "outputs": [
    {
     "name": "stdout",
     "output_type": "stream",
     "text": [
      "模块级别语句\n",
      "模块级别函数\n",
      "这是最小的空模块\n"
     ]
    }
   ],
   "source": [
    "\"这是一个演示模块\"\n",
    "\n",
    "def foo():\n",
    "    print(\"模块级别函数\")\n",
    "\n",
    "if __name__ == \"__main__\":\n",
    "    print(\"模块级别语句\")\n",
    "    foo()\n",
    "    print(\"这是最小的空模块\")"
   ]
  },
  {
   "cell_type": "code",
   "execution_count": 15,
   "metadata": {},
   "outputs": [],
   "source": [
    "import os"
   ]
  },
  {
   "cell_type": "code",
   "execution_count": 16,
   "metadata": {},
   "outputs": [],
   "source": [
    "os.chdir(r\"C:\\Users\\SDUT\\Documents\\GitHub\\Code.By.Whve\\00.jupyter notebook\\python-sstm\")"
   ]
  },
  {
   "cell_type": "code",
   "execution_count": 17,
   "metadata": {},
   "outputs": [
    {
     "data": {
      "text/plain": [
       "'C:\\\\Users\\\\SDUT\\\\Documents\\\\GitHub\\\\Code.By.Whve\\\\00.jupyter notebook\\\\python-sstm'"
      ]
     },
     "execution_count": 17,
     "metadata": {},
     "output_type": "execute_result"
    }
   ],
   "source": [
    "os.getcwd()"
   ]
  },
  {
   "cell_type": "code",
   "execution_count": 18,
   "metadata": {},
   "outputs": [],
   "source": [
    "import DemoModule"
   ]
  },
  {
   "cell_type": "code",
   "execution_count": 19,
   "metadata": {},
   "outputs": [],
   "source": [
    "DemoModule.__doc__"
   ]
  }
 ],
 "metadata": {
  "kernelspec": {
   "display_name": "Python 3",
   "language": "python",
   "name": "python3"
  },
  "language_info": {
   "codemirror_mode": {
    "name": "ipython",
    "version": 3
   },
   "file_extension": ".py",
   "mimetype": "text/x-python",
   "name": "python",
   "nbconvert_exporter": "python",
   "pygments_lexer": "ipython3",
   "version": "3.7.1"
  }
 },
 "nbformat": 4,
 "nbformat_minor": 2
}
