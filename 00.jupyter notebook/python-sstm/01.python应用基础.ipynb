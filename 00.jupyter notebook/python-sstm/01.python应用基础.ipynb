{
 "cells": [
  {
   "cell_type": "code",
   "execution_count": null,
   "metadata": {},
   "outputs": [],
   "source": [
    "str = '世界，你好！'\n",
    "for i in range(len(str)):\n",
    "    print(str[i])\n",
    " "
   ]
  },
  {
   "cell_type": "code",
   "execution_count": 12,
   "metadata": {},
   "outputs": [
    {
     "name": "stdout",
     "output_type": "stream",
     "text": [
      "言语用通个一是nohtyP"
     ]
    }
   ],
   "source": [
    "str = 'Python是一个通用语言'\n",
    "for i in range(len(str)):\n",
    "    print(str[-i-1],end='')\n",
    "    \n",
    "str = input()\n",
    "for i in range(len(str)):\n",
    "    print(str[-i-1],end='')"
   ]
  },
  {
   "cell_type": "markdown",
   "metadata": {},
   "source": [
    "# "
   ]
  },
  {
   "cell_type": "code",
   "execution_count": null,
   "metadata": {},
   "outputs": [],
   "source": [
    "str = input()\n",
    "if str[-3:] in [\"人民币\"]:\n",
    "    EUR = eval(str[:-3])/7.8942\n",
    "    print('{:.2f}'.format(EUR)+'欧元')\n",
    "elif str[-3:] in [\"CNY\"]:\n",
    "    EUR = eval(str[:-3])/7.8942\n",
    "    print('{:.2f}'.format(EUR)+'EUR')    \n",
    "    \n",
    "elif str[-2:] in [\"欧元\"]:\n",
    "    CNY = eval(str[:-2])*7.8942\n",
    "    print('{:.2f}'.format(CNY)+\"人民币\")\n",
    "elif str[-3:] in ['EUR']:\n",
    "    CNY1 = eval(str[:-3])*7.8942\n",
    "    print('{:.2f}'.format(CNY1)+\"CNY\")\n",
    "else:\n",
    "    print('格式错误')"
   ]
  },
  {
   "cell_type": "code",
   "execution_count": 20,
   "metadata": {},
   "outputs": [
    {
     "data": {
      "text/plain": [
       "(-3+4j)"
      ]
     },
     "execution_count": 20,
     "metadata": {},
     "output_type": "execute_result"
    }
   ],
   "source": [
    "(1+2j)**2\n"
   ]
  },
  {
   "cell_type": "code",
   "execution_count": 22,
   "metadata": {},
   "outputs": [
    {
     "data": {
      "text/plain": [
       "20"
      ]
     },
     "execution_count": 22,
     "metadata": {},
     "output_type": "execute_result"
    }
   ],
   "source": [
    "0xa + 0b1010\n"
   ]
  },
  {
   "cell_type": "code",
   "execution_count": 23,
   "metadata": {},
   "outputs": [
    {
     "data": {
      "text/plain": [
       "float"
      ]
     },
     "execution_count": 23,
     "metadata": {},
     "output_type": "execute_result"
    }
   ],
   "source": [
    "type((10+0j).real)"
   ]
  },
  {
   "cell_type": "code",
   "execution_count": 24,
   "metadata": {},
   "outputs": [
    {
     "data": {
      "text/plain": [
       "10.0"
      ]
     },
     "execution_count": 24,
     "metadata": {},
     "output_type": "execute_result"
    }
   ],
   "source": [
    "(10+0j).real"
   ]
  },
  {
   "cell_type": "code",
   "execution_count": 25,
   "metadata": {},
   "outputs": [
    {
     "data": {
      "text/plain": [
       "(10+0j)"
      ]
     },
     "execution_count": 25,
     "metadata": {},
     "output_type": "execute_result"
    }
   ],
   "source": [
    "10+0j"
   ]
  },
  {
   "cell_type": "code",
   "execution_count": 26,
   "metadata": {},
   "outputs": [
    {
     "data": {
      "text/plain": [
       "9"
      ]
     },
     "execution_count": 26,
     "metadata": {},
     "output_type": "execute_result"
    }
   ],
   "source": [
    "100//11"
   ]
  },
  {
   "cell_type": "code",
   "execution_count": 31,
   "metadata": {},
   "outputs": [
    {
     "name": "stdout",
     "output_type": "stream",
     "text": [
      "世界，你好！\n",
      "Python，我来了！\n"
     ]
    }
   ],
   "source": [
    "print('世界，你好！'+'\\n'+'Python，我来了！')"
   ]
  },
  {
   "cell_type": "code",
   "execution_count": 34,
   "metadata": {},
   "outputs": [
    {
     "name": "stdout",
     "output_type": "stream",
     "text": [
      "1\n",
      "2\n",
      "3\n"
     ]
    }
   ],
   "source": [
    "a,b = input(),input()\n",
    "print(eval(a)+eval(b))"
   ]
  },
  {
   "cell_type": "code",
   "execution_count": 36,
   "metadata": {},
   "outputs": [
    {
     "name": "stdout",
     "output_type": "stream",
     "text": [
      "1\n",
      "2\n",
      "3\n",
      "2.00\n"
     ]
    }
   ],
   "source": [
    "a,b,c = input(),input(),input()\n",
    "\n",
    "\n",
    "print('{:.2f}'.format((eval(a)+eval(b)+eval(c))/3))"
   ]
  },
  {
   "cell_type": "code",
   "execution_count": 37,
   "metadata": {},
   "outputs": [
    {
     "data": {
      "text/plain": [
       "0.30000000000000004"
      ]
     },
     "execution_count": 37,
     "metadata": {},
     "output_type": "execute_result"
    }
   ],
   "source": [
    "0.1+0.2"
   ]
  },
  {
   "cell_type": "code",
   "execution_count": 1,
   "metadata": {},
   "outputs": [
    {
     "name": "stdout",
     "output_type": "stream",
     "text": [
      "10m\n",
      "32.81ft\n"
     ]
    }
   ],
   "source": [
    "m  = input() \n",
    "if  m[-1:] in ['m']:\n",
    "    m1 = eval(m[:-1])*3.2808\n",
    "    print('{:.2f}'.format(m1)+'ft')\n",
    "elif m[-2:] in ['ft']:\n",
    "    m2 = eval(m[:-2])/3.2808\n",
    "    print('{:.2f}'.format(m2)+'m')"
   ]
  },
  {
   "cell_type": "code",
   "execution_count": 39,
   "metadata": {},
   "outputs": [
    {
     "data": {
      "text/plain": [
       "3.4"
      ]
     },
     "execution_count": 39,
     "metadata": {},
     "output_type": "execute_result"
    }
   ],
   "source": [
    "425/125"
   ]
  },
  {
   "cell_type": "code",
   "execution_count": 40,
   "metadata": {},
   "outputs": [
    {
     "name": "stdout",
     "output_type": "stream",
     "text": [
      "1.00\n",
      "1.11\n",
      "1.25\n",
      "1.43\n",
      "1.67\n",
      "2.00\n",
      "2.50\n",
      "3.33\n",
      "5.00\n",
      "10.00\n",
      "infinity\n"
     ]
    }
   ],
   "source": [
    "a = 10\n",
    "try:\n",
    "   while True:\n",
    "      print(\"{:.2f}\".format(10/a))\n",
    "      a = a - 1\n",
    "except:\n",
    "   print(\"infinity\")"
   ]
  },
  {
   "cell_type": "code",
   "execution_count": 43,
   "metadata": {},
   "outputs": [
    {
     "name": "stdout",
     "output_type": "stream",
     "text": [
      "9.78\n"
     ]
    },
    {
     "data": {
      "text/plain": [
       "['1', '1', '2', '3', '5', '8', '13', '21', '34']"
      ]
     },
     "execution_count": 43,
     "metadata": {},
     "output_type": "execute_result"
    }
   ],
   "source": [
    "a = '1 1 2 3 5 8 13 21 34'\n",
    "avg,n =0,0\n",
    "ls = a.split()\n",
    "for i in ls:\n",
    "    n +=1\n",
    "    avg += eval(i)\n",
    "print('{:.1f}'.format(avg/n))\n"
   ]
  },
  {
   "cell_type": "code",
   "execution_count": 5,
   "metadata": {
    "scrolled": true
   },
   "outputs": [
    {
     "name": "stdout",
     "output_type": "stream",
     "text": [
      "1\n",
      "2\n",
      "\n",
      "3\n"
     ]
    }
   ],
   "source": [
    "b = 0\n",
    "while True:\n",
    "    a = input()\n",
    "    if a != '':\n",
    "        b += eval(a)\n",
    "    else:\n",
    "        break\n",
    "print(b)"
   ]
  },
  {
   "cell_type": "code",
   "execution_count": 9,
   "metadata": {},
   "outputs": [
    {
     "data": {
      "text/plain": [
       "['\"Collusion',\n",
       " 'is',\n",
       " 'very',\n",
       " 'real',\n",
       " 'with',\n",
       " 'Russia,\"',\n",
       " 'Trump',\n",
       " 'quoted',\n",
       " 'conservative',\n",
       " 'commentator',\n",
       " 'Dan',\n",
       " 'Bongino',\n",
       " 'as',\n",
       " 'saying',\n",
       " 'on',\n",
       " \"Trump's\",\n",
       " 'favorite',\n",
       " 'Fox',\n",
       " 'News',\n",
       " 'morning',\n",
       " 'show,',\n",
       " '\"but',\n",
       " 'only',\n",
       " 'with',\n",
       " 'Hillary',\n",
       " 'and',\n",
       " 'the',\n",
       " 'Democrats,',\n",
       " 'and',\n",
       " 'we',\n",
       " 'should',\n",
       " 'demand',\n",
       " 'a',\n",
       " 'full',\n",
       " 'investigation.\"']"
      ]
     },
     "execution_count": 9,
     "metadata": {},
     "output_type": "execute_result"
    }
   ],
   "source": [
    "s = '''\n",
    "\"Collusion is very real with Russia,\" Trump quoted conservative commentator Dan Bongino as saying on Trump's favorite Fox News morning show, \"but only with Hillary and the Democrats, and we should demand a full investigation.\"\n",
    "'''\n",
    "ls = s.split()\n",
    "print(len(ls))"
   ]
  },
  {
   "cell_type": "code",
   "execution_count": 11,
   "metadata": {},
   "outputs": [
    {
     "name": "stdout",
     "output_type": "stream",
     "text": [
      "1      23\n"
     ]
    }
   ],
   "source": [
    "\n",
    "print('1\\\n",
    "      23')"
   ]
  },
  {
   "cell_type": "code",
   "execution_count": 14,
   "metadata": {},
   "outputs": [],
   "source": [
    "type = 'a'"
   ]
  },
  {
   "cell_type": "code",
   "execution_count": 15,
   "metadata": {},
   "outputs": [
    {
     "data": {
      "text/plain": [
       "'a'"
      ]
     },
     "execution_count": 15,
     "metadata": {},
     "output_type": "execute_result"
    }
   ],
   "source": [
    "type"
   ]
  },
  {
   "cell_type": "code",
   "execution_count": 1,
   "metadata": {},
   "outputs": [
    {
     "data": {
      "text/plain": [
       "int"
      ]
     },
     "execution_count": 1,
     "metadata": {},
     "output_type": "execute_result"
    }
   ],
   "source": [
    "type(123)"
   ]
  },
  {
   "cell_type": "code",
   "execution_count": 6,
   "metadata": {
    "scrolled": true
   },
   "outputs": [
    {
     "name": "stdout",
     "output_type": "stream",
     "text": [
      "2018-02-28 03:28:47.036129 18.4008 39.1443 43.24 2.68742\n",
      "2018-02-28 05:40:17.035065 17.7736 39.1783 43.24 2.68742\n",
      "2018-02-28 08:14:16.65499 18.9202 37.2993 412.16 2.68742\n",
      "2018-02-28 10:08:47.351802 23.0852 31.3139 507.84 2.73696\n",
      "2018-02-28 12:00:48.149206 24.6336 30.2529 456.32 2.74963\n",
      "2018-02-28 13:41:48.124522 24.81 30.5009 412.16 2.74963\n",
      "2018-02-28 15:20:48.542063 23.4576 32.6505 235.52 2.73696\n",
      "2018-02-28 16:45:51.181885 21.9778 34.9181 121.44 2.7244\n",
      "2018-02-28 18:18:50.826717 20.9586 36.8183 43.24 2.71196\n",
      "2018-02-28 19:45:49.355855 20.4 37.8477 45.08 2.69964"
     ]
    }
   ],
   "source": [
    "f = open(r'E:\\sensor-data-1k.txt')\n",
    "a = 0\n",
    "for i in f:\n",
    "    a += 1\n",
    "    if a%100 == 0:\n",
    "        print(i,end='')\n",
    "f.close()"
   ]
  },
  {
   "cell_type": "code",
   "execution_count": 7,
   "metadata": {},
   "outputs": [
    {
     "name": "stdout",
     "output_type": "stream",
     "text": [
      "217.29\n"
     ]
    }
   ],
   "source": [
    "f = open(r'E:\\sensor-data-1k.txt')\n",
    "avg,n = 0,0\n",
    "for i in f:\n",
    "    ls = i.split()\n",
    "    n += 1\n",
    "    avg += eval(ls[-2])\n",
    "print('{:.2f}'.format(avg/n))\n",
    "f.close()"
   ]
  },
  {
   "cell_type": "code",
   "execution_count": 16,
   "metadata": {},
   "outputs": [
    {
     "name": "stdout",
     "output_type": "stream",
     "text": [
      "of\n",
      "the\n",
      "Hugo\n"
     ]
    },
    {
     "data": {
      "text/plain": [
       "'Hugo'"
      ]
     },
     "execution_count": 16,
     "metadata": {},
     "output_type": "execute_result"
    }
   ],
   "source": [
    "s = '''\n",
    "PREFACE \n",
    "　　So long as there shall exist, by virtue of law and custom, decrees of damnation pronounced by society, artificially creating hells amid the civilization of earth, and adding the element of human fate to divine destiny; so long as the three great problems of the century-- the degradation of man through pauperism, the corruption of woman through hunger, the crippling of children through lack of light-- are unsolved; so long as social asphyxia is possible in any part of the world;--in other words, and with a still wider significance, so long as ignorance and poverty exist on earth, books of the nature of Les Miserables cannot fail to be of use. \n",
    "　　HAUTEVILLE HOUSE, 1862.\n",
    "Victor Hugo\n",
    "'''\n",
    "\n",
    "ls = s.split()\n",
    "d = {}\n",
    "for w in ls:\n",
    "    d[w] = d.get(w,0)+1\n",
    "for k in d:\n",
    "    if d[k] >=5:\n",
    "        print(k)\n",
    "        \n",
    "print(w)\n",
    "k"
   ]
  },
  {
   "cell_type": "code",
   "execution_count": 17,
   "metadata": {},
   "outputs": [
    {
     "name": "stdout",
     "output_type": "stream",
     "text": [
      "1\n",
      "2\n",
      "3\n",
      "\n",
      "6\n"
     ]
    }
   ],
   "source": [
    "sum = 0\n",
    "txt = input()\n",
    "while txt != \"\":\n",
    "    sum += eval(txt)\n",
    "    txt = input()\n",
    "print(sum)"
   ]
  },
  {
   "cell_type": "code",
   "execution_count": null,
   "metadata": {},
   "outputs": [],
   "source": []
  }
 ],
 "metadata": {
  "kernelspec": {
   "display_name": "Python 3",
   "language": "python",
   "name": "python3"
  },
  "language_info": {
   "codemirror_mode": {
    "name": "ipython",
    "version": 3
   },
   "file_extension": ".py",
   "mimetype": "text/x-python",
   "name": "python",
   "nbconvert_exporter": "python",
   "pygments_lexer": "ipython3",
   "version": "3.7.1"
  }
 },
 "nbformat": 4,
 "nbformat_minor": 2
}
